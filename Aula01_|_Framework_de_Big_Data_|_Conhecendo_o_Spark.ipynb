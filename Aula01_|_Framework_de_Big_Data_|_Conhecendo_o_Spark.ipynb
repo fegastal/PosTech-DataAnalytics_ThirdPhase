{
  "nbformat": 4,
  "nbformat_minor": 0,
  "metadata": {
    "colab": {
      "provenance": [],
      "authorship_tag": "ABX9TyPPS9Krr1fHs0+lBkT5gLVA",
      "include_colab_link": true
    },
    "kernelspec": {
      "name": "python3",
      "display_name": "Python 3"
    },
    "language_info": {
      "name": "python"
    }
  },
  "cells": [
    {
      "cell_type": "markdown",
      "metadata": {
        "id": "view-in-github",
        "colab_type": "text"
      },
      "source": [
        "<a href=\"https://colab.research.google.com/github/fegastal/PosTech-DataAnalytics_ThirdPhase/blob/main/Aula01_%7C_Framework_de_Big_Data_%7C_Conhecendo_o_Spark.ipynb\" target=\"_parent\"><img src=\"https://colab.research.google.com/assets/colab-badge.svg\" alt=\"Open In Colab\"/></a>"
      ]
    },
    {
      "cell_type": "code",
      "source": [
        "!sudo apt update"
      ],
      "metadata": {
        "colab": {
          "base_uri": "https://localhost:8080/"
        },
        "id": "V__9cG3UNR0z",
        "outputId": "0de4ff11-aeee-4b0d-fe87-c80d25db257e"
      },
      "execution_count": 2,
      "outputs": [
        {
          "output_type": "stream",
          "name": "stdout",
          "text": [
            "\u001b[33m\r0% [Working]\u001b[0m\r            \rGet:1 https://cloud.r-project.org/bin/linux/ubuntu jammy-cran40/ InRelease [3,626 B]\n",
            "Hit:2 https://developer.download.nvidia.com/compute/cuda/repos/ubuntu2204/x86_64  InRelease\n",
            "Get:3 http://security.ubuntu.com/ubuntu jammy-security InRelease [110 kB]\n",
            "Hit:4 http://archive.ubuntu.com/ubuntu jammy InRelease\n",
            "Get:5 http://archive.ubuntu.com/ubuntu jammy-updates InRelease [119 kB]\n",
            "Hit:6 https://ppa.launchpadcontent.net/c2d4u.team/c2d4u4.0+/ubuntu jammy InRelease\n",
            "Get:7 http://security.ubuntu.com/ubuntu jammy-security/main amd64 Packages [962 kB]\n",
            "Get:8 http://archive.ubuntu.com/ubuntu jammy-backports InRelease [109 kB]\n",
            "Get:9 https://ppa.launchpadcontent.net/deadsnakes/ppa/ubuntu jammy InRelease [18.1 kB]\n",
            "Get:10 http://archive.ubuntu.com/ubuntu jammy-updates/restricted amd64 Packages [1,079 kB]\n",
            "Get:11 http://security.ubuntu.com/ubuntu jammy-security/universe amd64 Packages [993 kB]\n",
            "Get:12 http://security.ubuntu.com/ubuntu jammy-security/restricted amd64 Packages [1,059 kB]\n",
            "Get:13 http://archive.ubuntu.com/ubuntu jammy-updates/main amd64 Packages [1,230 kB]\n",
            "Get:14 http://archive.ubuntu.com/ubuntu jammy-updates/universe amd64 Packages [1,254 kB]\n",
            "Hit:15 https://ppa.launchpadcontent.net/graphics-drivers/ppa/ubuntu jammy InRelease\n",
            "Hit:16 https://ppa.launchpadcontent.net/ubuntugis/ppa/ubuntu jammy InRelease\n",
            "Get:17 https://ppa.launchpadcontent.net/deadsnakes/ppa/ubuntu jammy/main amd64 Packages [21.8 kB]\n",
            "Fetched 6,959 kB in 3s (2,709 kB/s)\n",
            "Reading package lists... Done\n",
            "Building dependency tree... Done\n",
            "Reading state information... Done\n",
            "16 packages can be upgraded. Run 'apt list --upgradable' to see them.\n"
          ]
        }
      ]
    },
    {
      "cell_type": "code",
      "source": [
        "!apt-get install openjdk-8-jdk-headless -qq > /dev/null"
      ],
      "metadata": {
        "id": "U-ZjkQ5JNVQN"
      },
      "execution_count": 3,
      "outputs": []
    },
    {
      "cell_type": "code",
      "source": [
        "!sudo apt update\n",
        "!apt-get install openjdk-8-jdk-headless -qq > /dev/null\n",
        "#Check this site for the latest download link https://www.apache.org/dyn/closer.lua/spark/spark-3.2.1/spark-3.2.1-bin-hadoop3.2.tgz\n",
        "!wget -q https://dlcdn.apache.org/spark/spark-3.2.1/spark-3.2.1-bin-hadoop3.2.tgz\n",
        "!tar xf spark-3.2.1-bin-hadoop3.2.tgz\n",
        "!pip install -q findspark\n",
        "!pip install pyspark\n",
        "!pip install py4j\n",
        "\n",
        "import os\n",
        "import sys\n",
        "# os.environ[\"JAVA_HOME\"] = \"/usr/lib/jvm/java-8-openjdk-amd64\"\n",
        "# os.environ[\"SPARK_HOME\"] = \"/content/spark-3.2.1-bin-hadoop3.2\"\n",
        "\n",
        "import findspark\n",
        "findspark.init()\n",
        "findspark.find()\n",
        "\n",
        "import pyspark\n",
        "\n",
        "from pyspark.sql import DataFrame, SparkSession\n",
        "from typing import List\n",
        "import pyspark.sql.types as T\n",
        "import pyspark.sql.functions as F\n",
        "\n",
        "spark= SparkSession.builder.appName(\"Our First Spark Example\").getOrCreate()\n",
        "spark"
      ],
      "metadata": {
        "colab": {
          "base_uri": "https://localhost:8080/",
          "height": 768
        },
        "id": "sa2IUxZPNq0L",
        "outputId": "d4c2cf21-fac2-43a9-fc59-40b8d325454b"
      },
      "execution_count": 6,
      "outputs": [
        {
          "output_type": "stream",
          "name": "stdout",
          "text": [
            "\u001b[33m\r0% [Working]\u001b[0m\r            \rHit:1 http://security.ubuntu.com/ubuntu jammy-security InRelease\n",
            "\u001b[33m\r0% [Connecting to archive.ubuntu.com] [Waiting for headers] [Connecting to ppa.\u001b[0m\r                                                                               \rHit:2 https://cloud.r-project.org/bin/linux/ubuntu jammy-cran40/ InRelease\n",
            "Hit:3 https://developer.download.nvidia.com/compute/cuda/repos/ubuntu2204/x86_64  InRelease\n",
            "Hit:4 http://archive.ubuntu.com/ubuntu jammy InRelease\n",
            "Hit:5 http://archive.ubuntu.com/ubuntu jammy-updates InRelease\n",
            "Hit:6 http://archive.ubuntu.com/ubuntu jammy-backports InRelease\n",
            "Hit:7 https://ppa.launchpadcontent.net/c2d4u.team/c2d4u4.0+/ubuntu jammy InRelease\n",
            "Hit:8 https://ppa.launchpadcontent.net/deadsnakes/ppa/ubuntu jammy InRelease\n",
            "Hit:9 https://ppa.launchpadcontent.net/graphics-drivers/ppa/ubuntu jammy InRelease\n",
            "Hit:10 https://ppa.launchpadcontent.net/ubuntugis/ppa/ubuntu jammy InRelease\n",
            "Reading package lists... Done\n",
            "Building dependency tree... Done\n",
            "Reading state information... Done\n",
            "16 packages can be upgraded. Run 'apt list --upgradable' to see them.\n",
            "tar: spark-3.2.1-bin-hadoop3.2.tgz: Cannot open: No such file or directory\n",
            "tar: Error is not recoverable: exiting now\n",
            "Collecting pyspark\n",
            "  Downloading pyspark-3.4.1.tar.gz (310.8 MB)\n",
            "\u001b[2K     \u001b[90m━━━━━━━━━━━━━━━━━━━━━━━━━━━━━━━━━━━━━━━\u001b[0m \u001b[32m310.8/310.8 MB\u001b[0m \u001b[31m2.7 MB/s\u001b[0m eta \u001b[36m0:00:00\u001b[0m\n",
            "\u001b[?25h  Preparing metadata (setup.py) ... \u001b[?25l\u001b[?25hdone\n",
            "Requirement already satisfied: py4j==0.10.9.7 in /usr/local/lib/python3.10/dist-packages (from pyspark) (0.10.9.7)\n",
            "Building wheels for collected packages: pyspark\n",
            "  Building wheel for pyspark (setup.py) ... \u001b[?25l\u001b[?25hdone\n",
            "  Created wheel for pyspark: filename=pyspark-3.4.1-py2.py3-none-any.whl size=311285387 sha256=28a9ee2bb9fd3c9ab4aae842b9343a31178817bcb24d740cb67bb6a5a364f7ac\n",
            "  Stored in directory: /root/.cache/pip/wheels/0d/77/a3/ff2f74cc9ab41f8f594dabf0579c2a7c6de920d584206e0834\n",
            "Successfully built pyspark\n",
            "Installing collected packages: pyspark\n",
            "Successfully installed pyspark-3.4.1\n",
            "Requirement already satisfied: py4j in /usr/local/lib/python3.10/dist-packages (0.10.9.7)\n"
          ]
        },
        {
          "output_type": "execute_result",
          "data": {
            "text/plain": [
              "<pyspark.sql.session.SparkSession at 0x7db6317bb160>"
            ],
            "text/html": [
              "\n",
              "            <div>\n",
              "                <p><b>SparkSession - in-memory</b></p>\n",
              "                \n",
              "        <div>\n",
              "            <p><b>SparkContext</b></p>\n",
              "\n",
              "            <p><a href=\"http://382709ed59dd:4040\">Spark UI</a></p>\n",
              "\n",
              "            <dl>\n",
              "              <dt>Version</dt>\n",
              "                <dd><code>v3.4.1</code></dd>\n",
              "              <dt>Master</dt>\n",
              "                <dd><code>local[*]</code></dd>\n",
              "              <dt>AppName</dt>\n",
              "                <dd><code>Our First Spark Example</code></dd>\n",
              "            </dl>\n",
              "        </div>\n",
              "        \n",
              "            </div>\n",
              "        "
            ]
          },
          "metadata": {},
          "execution_count": 6
        }
      ]
    },
    {
      "cell_type": "markdown",
      "source": [
        "Após a execução desse código, será possível visualizar 3 principais variáveis do Spark, sendo: Version, Master e AppName."
      ],
      "metadata": {
        "id": "KseKnGbcN3W4"
      }
    },
    {
      "cell_type": "markdown",
      "source": [
        "Agora vamos importar um arquivo público de dados da COVID-19 em formato .csv:"
      ],
      "metadata": {
        "id": "_RA9jCnvN_xm"
      }
    },
    {
      "cell_type": "code",
      "source": [
        "import requests\n",
        "path = \"https://raw.githubusercontent.com/owid/covid-19-data/master/public/data/owid-covid-data.csv\"\n",
        "req = requests.get(path)\n",
        "url_content = req.content\n",
        "\n",
        "csv_file_name = 'owid-covid-data.csv'\n",
        "csv_file = open(csv_file_name, 'wb')\n",
        "\n",
        "csv_file.write(url_content)\n",
        "csv_file.close()\n",
        "\n",
        "df = spark.read.csv('/content/'+csv_file_name, header=True, inferSchema=True)"
      ],
      "metadata": {
        "id": "uJckooibOD2n"
      },
      "execution_count": 7,
      "outputs": []
    },
    {
      "cell_type": "markdown",
      "source": [
        "Agora vamos realizar explorações básicas dos campos dentro do conjunto de dados que acabou de ser importado com o uso do Spark para um dataframe:"
      ],
      "metadata": {
        "id": "0YlWsENgOJmi"
      }
    },
    {
      "cell_type": "code",
      "source": [
        "#Viewing the dataframe schema\n",
        "df.printSchema()"
      ],
      "metadata": {
        "colab": {
          "base_uri": "https://localhost:8080/"
        },
        "id": "ElY0fHz8OP4z",
        "outputId": "85e0046c-3420-4a27-b5f3-a2f014bff162"
      },
      "execution_count": 8,
      "outputs": [
        {
          "output_type": "stream",
          "name": "stdout",
          "text": [
            "root\n",
            " |-- iso_code: string (nullable = true)\n",
            " |-- continent: string (nullable = true)\n",
            " |-- location: string (nullable = true)\n",
            " |-- date: date (nullable = true)\n",
            " |-- total_cases: double (nullable = true)\n",
            " |-- new_cases: double (nullable = true)\n",
            " |-- new_cases_smoothed: double (nullable = true)\n",
            " |-- total_deaths: double (nullable = true)\n",
            " |-- new_deaths: double (nullable = true)\n",
            " |-- new_deaths_smoothed: double (nullable = true)\n",
            " |-- total_cases_per_million: double (nullable = true)\n",
            " |-- new_cases_per_million: double (nullable = true)\n",
            " |-- new_cases_smoothed_per_million: double (nullable = true)\n",
            " |-- total_deaths_per_million: double (nullable = true)\n",
            " |-- new_deaths_per_million: double (nullable = true)\n",
            " |-- new_deaths_smoothed_per_million: double (nullable = true)\n",
            " |-- reproduction_rate: double (nullable = true)\n",
            " |-- icu_patients: double (nullable = true)\n",
            " |-- icu_patients_per_million: double (nullable = true)\n",
            " |-- hosp_patients: double (nullable = true)\n",
            " |-- hosp_patients_per_million: double (nullable = true)\n",
            " |-- weekly_icu_admissions: double (nullable = true)\n",
            " |-- weekly_icu_admissions_per_million: double (nullable = true)\n",
            " |-- weekly_hosp_admissions: double (nullable = true)\n",
            " |-- weekly_hosp_admissions_per_million: double (nullable = true)\n",
            " |-- total_tests: double (nullable = true)\n",
            " |-- new_tests: double (nullable = true)\n",
            " |-- total_tests_per_thousand: double (nullable = true)\n",
            " |-- new_tests_per_thousand: double (nullable = true)\n",
            " |-- new_tests_smoothed: double (nullable = true)\n",
            " |-- new_tests_smoothed_per_thousand: double (nullable = true)\n",
            " |-- positive_rate: double (nullable = true)\n",
            " |-- tests_per_case: double (nullable = true)\n",
            " |-- tests_units: string (nullable = true)\n",
            " |-- total_vaccinations: double (nullable = true)\n",
            " |-- people_vaccinated: double (nullable = true)\n",
            " |-- people_fully_vaccinated: double (nullable = true)\n",
            " |-- total_boosters: double (nullable = true)\n",
            " |-- new_vaccinations: double (nullable = true)\n",
            " |-- new_vaccinations_smoothed: double (nullable = true)\n",
            " |-- total_vaccinations_per_hundred: double (nullable = true)\n",
            " |-- people_vaccinated_per_hundred: double (nullable = true)\n",
            " |-- people_fully_vaccinated_per_hundred: double (nullable = true)\n",
            " |-- total_boosters_per_hundred: double (nullable = true)\n",
            " |-- new_vaccinations_smoothed_per_million: double (nullable = true)\n",
            " |-- new_people_vaccinated_smoothed: double (nullable = true)\n",
            " |-- new_people_vaccinated_smoothed_per_hundred: double (nullable = true)\n",
            " |-- stringency_index: double (nullable = true)\n",
            " |-- population_density: double (nullable = true)\n",
            " |-- median_age: double (nullable = true)\n",
            " |-- aged_65_older: double (nullable = true)\n",
            " |-- aged_70_older: double (nullable = true)\n",
            " |-- gdp_per_capita: double (nullable = true)\n",
            " |-- extreme_poverty: double (nullable = true)\n",
            " |-- cardiovasc_death_rate: double (nullable = true)\n",
            " |-- diabetes_prevalence: double (nullable = true)\n",
            " |-- female_smokers: double (nullable = true)\n",
            " |-- male_smokers: double (nullable = true)\n",
            " |-- handwashing_facilities: double (nullable = true)\n",
            " |-- hospital_beds_per_thousand: double (nullable = true)\n",
            " |-- life_expectancy: double (nullable = true)\n",
            " |-- human_development_index: double (nullable = true)\n",
            " |-- population: double (nullable = true)\n",
            " |-- excess_mortality_cumulative_absolute: double (nullable = true)\n",
            " |-- excess_mortality_cumulative: double (nullable = true)\n",
            " |-- excess_mortality: double (nullable = true)\n",
            " |-- excess_mortality_cumulative_per_million: double (nullable = true)\n",
            "\n"
          ]
        }
      ]
    },
    {
      "cell_type": "markdown",
      "source": [
        "A função a seguir irá converter o tipo de dados da coluna \"date\" de string para date:"
      ],
      "metadata": {
        "id": "Hbew9SFvOR-N"
      }
    },
    {
      "cell_type": "code",
      "source": [
        "#Converting a date column\n",
        "df.select(F.to_date(df.date).alias('date'))"
      ],
      "metadata": {
        "colab": {
          "base_uri": "https://localhost:8080/"
        },
        "id": "MkUldbYjOWbZ",
        "outputId": "51a3b989-fab6-4dce-e151-d297f880f981"
      },
      "execution_count": 9,
      "outputs": [
        {
          "output_type": "execute_result",
          "data": {
            "text/plain": [
              "DataFrame[date: date]"
            ]
          },
          "metadata": {},
          "execution_count": 9
        }
      ]
    },
    {
      "cell_type": "markdown",
      "source": [
        "O próximo comando irá retornar para você um resumo de todas as colunas com algumas restrições como COUNT, MEAN,STDDEV, MIN e MÁX:"
      ],
      "metadata": {
        "id": "m1sbvFpMOYbP"
      }
    },
    {
      "cell_type": "code",
      "source": [
        "#Summary stats\n",
        "df.describe().show()"
      ],
      "metadata": {
        "colab": {
          "base_uri": "https://localhost:8080/"
        },
        "id": "iiy7DpxdOeB_",
        "outputId": "030b487f-e375-4e0c-aff0-040d5f97930a"
      },
      "execution_count": 10,
      "outputs": [
        {
          "output_type": "stream",
          "name": "stdout",
          "text": [
            "+-------+--------+-------------+-----------+-------------------+------------------+------------------+-----------------+-----------------+-------------------+-----------------------+---------------------+------------------------------+------------------------+----------------------+-------------------------------+------------------+-----------------+------------------------+------------------+-------------------------+---------------------+---------------------------------+----------------------+----------------------------------+-------------------+-----------------+------------------------+----------------------+------------------+-------------------------------+-------------------+-----------------+-------------+--------------------+--------------------+-----------------------+--------------------+------------------+-------------------------+------------------------------+-----------------------------+-----------------------------------+--------------------------+-------------------------------------+------------------------------+------------------------------------------+------------------+------------------+------------------+-----------------+------------------+------------------+------------------+---------------------+-------------------+------------------+------------------+----------------------+--------------------------+-----------------+-----------------------+--------------------+------------------------------------+---------------------------+------------------+---------------------------------------+\n",
            "|summary|iso_code|    continent|   location|        total_cases|         new_cases|new_cases_smoothed|     total_deaths|       new_deaths|new_deaths_smoothed|total_cases_per_million|new_cases_per_million|new_cases_smoothed_per_million|total_deaths_per_million|new_deaths_per_million|new_deaths_smoothed_per_million| reproduction_rate|     icu_patients|icu_patients_per_million|     hosp_patients|hosp_patients_per_million|weekly_icu_admissions|weekly_icu_admissions_per_million|weekly_hosp_admissions|weekly_hosp_admissions_per_million|        total_tests|        new_tests|total_tests_per_thousand|new_tests_per_thousand|new_tests_smoothed|new_tests_smoothed_per_thousand|      positive_rate|   tests_per_case|  tests_units|  total_vaccinations|   people_vaccinated|people_fully_vaccinated|      total_boosters|  new_vaccinations|new_vaccinations_smoothed|total_vaccinations_per_hundred|people_vaccinated_per_hundred|people_fully_vaccinated_per_hundred|total_boosters_per_hundred|new_vaccinations_smoothed_per_million|new_people_vaccinated_smoothed|new_people_vaccinated_smoothed_per_hundred|  stringency_index|population_density|        median_age|    aged_65_older|     aged_70_older|    gdp_per_capita|   extreme_poverty|cardiovasc_death_rate|diabetes_prevalence|    female_smokers|      male_smokers|handwashing_facilities|hospital_beds_per_thousand|  life_expectancy|human_development_index|          population|excess_mortality_cumulative_absolute|excess_mortality_cumulative|  excess_mortality|excess_mortality_cumulative_per_million|\n",
            "+-------+--------+-------------+-----------+-------------------+------------------+------------------+-----------------+-----------------+-------------------+-----------------------+---------------------+------------------------------+------------------------+----------------------+-------------------------------+------------------+-----------------+------------------------+------------------+-------------------------+---------------------+---------------------------------+----------------------+----------------------------------+-------------------+-----------------+------------------------+----------------------+------------------+-------------------------------+-------------------+-----------------+-------------+--------------------+--------------------+-----------------------+--------------------+------------------+-------------------------+------------------------------+-----------------------------+-----------------------------------+--------------------------+-------------------------------------+------------------------------+------------------------------------------+------------------+------------------+------------------+-----------------+------------------+------------------+------------------+---------------------+-------------------+------------------+------------------+----------------------+--------------------------+-----------------+-----------------------+--------------------+------------------------------------+---------------------------+------------------+---------------------------------------+\n",
            "|  count|  339496|       323380|     339496|             301840|            330286|            329027|           280505|           330329|             329099|                 301840|               330286|                        329027|                  280505|                330329|                         329099|            184817|            37309|                   37309|             38392|                    38392|                10040|                            10040|                 22893|                             22893|              79387|            75403|                   79387|                 75403|            103965|                         103965|              95927|            94348|       106788|               78388|               75039|                  71633|               46708|             64507|                   177576|                         78388|                        75039|                              71633|                     46708|                               177576|                        177281|                                    177281|            197651|            288169|            268009|           258623|            265323|            262652|            169223|               263218|             276630|            197427|            194741|                128930|                    232345|           312328|                 255142|              339496|                               11752|                      11752|             11752|                                  11752|\n",
            "|   mean|    null|         null|       null|  6455497.504760801| 9883.633051355491| 9921.227223395095|84724.40270583412|88.07387786116266|  88.39880223883948|      98330.69785707086|   149.35318158202318|            149.91947439875966|       857.1380112868619|    0.9344954393952329|             0.9379120568582732|0.9114953710968053| 679.783778712911|      16.385147712348214|3957.8081371118983|       131.22947817253538|    344.6041832669323|               10.432630876493992|     4344.886864980562|                 86.62418612676363|2.110457393801252E7|67285.41211888121|       924.2547618627754|    3.2724657904857852| 142178.3636993219|             2.8263088347039957| 0.0981625058638353| 2403.63280726672|         null|4.2457766856670666E8|1.8878666877699596E8|     1.71688595265897E8|1.0792871215950158E8| 810364.9720340428|        310061.5424156418|             117.8758454100118|            51.79260930982532|                 46.865877179511976|        34.185622163227116|                   2011.1554038834076|             114812.6096648823|                        0.0812385534829036| 42.71402122934034| 405.9637778805359|30.507840408347608|8.699472258848775|  5.49927366266938|18990.258622195208|13.848043114700795|    264.2748749705557|  8.561081299934905|10.790152116985265|32.909624090472704|     50.78941860699688|         3.097010346683687|73.71553667940456|      0.722472960155316|1.2811464782482268E8|                  51199.825614549416|          9.764985534377143|11.640143805309727|                     1627.4122886500795|\n",
            "| stddev|    null|         null|       null|3.956321247624309E7|111947.27261023196| 95911.61566616218|434307.5854534072|622.8814527109516|  567.5093479224522|      148239.4756252283|   1181.1080000510835|             608.6200989997667|      1089.5823758461663|     5.183595440952034|              2.808961542095789|0.3999249955670571|2183.443378889386|       23.11108436751639|10041.825928191358|       153.76738635103723|    530.2663392854299|               13.914052194854158|    11130.166073129223|                  89.6994379568611|8.409869431109461E7|247734.0045698393|       2195.428504333421|       9.0338427471392|1138214.6555840794|              7.308232579855924|0.11597757345500832|33443.66067673302|         null|  1.54213450011344E9| 6.788932399255627E8|    6.237747212337422E8| 3.569036677927891E8|3329678.5045125936|       2012130.6996298847|              84.9198280398272|            29.83885113688404|                  29.49195217625585|        30.348365729435802|                   3220.4690256724907|             818632.9775532141|                       0.18233573235491615|24.911007214295736|1848.6757662133614| 9.083450919425758|6.093758888318166|4.1353533957406095| 19953.20671797536|20.091603358018975|   120.93071824195594|    4.9413303047449|10.779375796500073|13.574633356536289|    31.957302118322033|         2.548363762950792|7.396383516516203|    0.14899131740417093| 6.596312263110788E8|                  144739.41664455034|          12.58355500268585| 25.53326020083307|                     1916.0336393990005|\n",
            "|    min|     ABW|       Africa|Afghanistan|                1.0|               0.0|               0.0|              1.0|              0.0|                0.0|                    0.0|                  0.0|                           0.0|                     0.0|                   0.0|                            0.0|             -0.07|              0.0|                     0.0|               0.0|                      0.0|                  0.0|                              0.0|                   0.0|                               0.0|                0.0|              1.0|                     0.0|                   0.0|               0.0|                            0.0|                0.0|              1.0|people tested|                 0.0|                 0.0|                    1.0|                 1.0|               0.0|                      0.0|                           0.0|                          0.0|                                0.0|                       0.0|                                  0.0|                           0.0|                                       0.0|               0.0|             0.137|              15.1|            1.144|             0.526|            661.24|               0.1|                79.37|               0.99|               0.1|               7.7|                 1.188|                       0.1|            53.28|                  0.394|                47.0|                          -37726.098|                     -44.23|            -95.92|                             -2142.3403|\n",
            "|    max|     ZWE|South America|   Zimbabwe|       7.70436563E8|         8401961.0|       6402036.286|        6956887.0|          27939.0|            14822.0|             737554.506|           228872.025|                     37241.781|                6501.224|               603.656|                        148.641|              5.87|          28891.0|                 180.675|          154497.0|                 1526.846|               4838.0|                          224.976|              153977.0|                           708.405|            9.214E9|      3.5855632E7|               32925.826|               531.062|       1.4769984E7|                        147.603|                1.0|        1023631.9|units unclear|     1.3501837833E10|       5.621631848E9|          5.169336673E9|       2.792366985E9|       4.9672573E7|              4.3690906E7|                        406.83|                       129.07|                             126.89|                    150.47|                             117113.0|                   2.1070835E7|                                    11.711|             100.0|         20546.766|              48.2|           27.049|            18.493|          116935.6|              77.6|              724.417|              30.53|              44.0|              78.1|                 100.0|                      13.8|            86.75|                  0.957|       7.975105024E9|                           1289776.5|                      76.55|            386.92|                              10292.916|\n",
            "+-------+--------+-------------+-----------+-------------------+------------------+------------------+-----------------+-----------------+-------------------+-----------------------+---------------------+------------------------------+------------------------+----------------------+-------------------------------+------------------+-----------------+------------------------+------------------+-------------------------+---------------------+---------------------------------+----------------------+----------------------------------+-------------------+-----------------+------------------------+----------------------+------------------+-------------------------------+-------------------+-----------------+-------------+--------------------+--------------------+-----------------------+--------------------+------------------+-------------------------+------------------------------+-----------------------------+-----------------------------------+--------------------------+-------------------------------------+------------------------------+------------------------------------------+------------------+------------------+------------------+-----------------+------------------+------------------+------------------+---------------------+-------------------+------------------+------------------+----------------------+--------------------------+-----------------+-----------------------+--------------------+------------------------------------+---------------------------+------------------+---------------------------------------+\n",
            "\n"
          ]
        }
      ]
    },
    {
      "cell_type": "markdown",
      "source": [
        "Este comando irá retornar uma simples agregação de SUM, sendo agrupada pelo camPythonp de \"location\":"
      ],
      "metadata": {
        "id": "N5d9eR9KOhAl"
      }
    },
    {
      "cell_type": "code",
      "source": [
        "#Simple Group by Function\n",
        "df.groupBy(\"location\").sum(\"new_cases\").orderBy(F.desc(\"sum(new_cases)\")).show(truncate=False)"
      ],
      "metadata": {
        "colab": {
          "base_uri": "https://localhost:8080/"
        },
        "id": "BurzIuLvOmrT",
        "outputId": "5d89f2d2-e749-44c2-c527-a2edd02a97ef"
      },
      "execution_count": 11,
      "outputs": [
        {
          "output_type": "stream",
          "name": "stdout",
          "text": [
            "+-------------------+--------------+\n",
            "|location           |sum(new_cases)|\n",
            "+-------------------+--------------+\n",
            "|World              |7.70452934E8  |\n",
            "|High income        |4.25238868E8  |\n",
            "|Asia               |3.00438143E8  |\n",
            "|Europe             |2.49217367E8  |\n",
            "|Upper middle income|2.442881E8    |\n",
            "|European Union     |1.83832173E8  |\n",
            "|North America      |1.24412723E8  |\n",
            "|United States      |1.03436829E8  |\n",
            "|China              |9.9306563E7   |\n",
            "|Lower middle income|9.7396408E7   |\n",
            "|South America      |6.8818417E7   |\n",
            "|India              |4.499808E7    |\n",
            "|France             |3.899749E7    |\n",
            "|Germany            |3.8437756E7   |\n",
            "|Brazil             |3.7717635E7   |\n",
            "|South Korea        |3.4436542E7   |\n",
            "|Japan              |3.3803572E7   |\n",
            "|Italy              |2.5955703E7   |\n",
            "|United Kingdom     |2.4688073E7   |\n",
            "|Russia             |2.2994849E7   |\n",
            "+-------------------+--------------+\n",
            "only showing top 20 rows\n",
            "\n"
          ]
        }
      ]
    }
  ]
}